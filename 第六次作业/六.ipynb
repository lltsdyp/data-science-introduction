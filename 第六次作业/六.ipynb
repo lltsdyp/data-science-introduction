{
 "cells": [
  {
   "cell_type": "code",
   "execution_count": 74,
   "metadata": {},
   "outputs": [],
   "source": [
    "import numpy as np\n",
    "import time\n",
    "import matplotlib.pyplot as plt\n",
    "import sympy as sp"
   ]
  },
  {
   "cell_type": "markdown",
   "metadata": {},
   "source": [
    "1.抽样"
   ]
  },
  {
   "cell_type": "code",
   "execution_count": 75,
   "metadata": {},
   "outputs": [
    {
     "name": "stdout",
     "output_type": "stream",
     "text": [
      "[ 1.00103855e+00  3.18304651e-01 -6.92327959e-02 -3.33970631e-01\n",
      "  8.02925805e-01  1.50861970e-01  5.11976718e-01  1.09285659e+00\n",
      " -3.73452956e-01  7.54403328e-01  1.28445692e+00 -1.70092730e+00\n",
      " -1.02101499e+00  2.58288626e-01  1.94599420e-03 -7.66920719e-02\n",
      "  2.38965234e-01  4.81148241e-01 -2.16294012e-02 -6.66413827e-01\n",
      " -1.40042341e-01 -3.99934845e-01 -1.00440426e-02 -6.19911149e-01\n",
      " -8.72318911e-01 -7.42351962e-01  6.33717886e-01 -1.32981396e+00\n",
      "  2.89105036e-01 -1.64636851e+00 -2.08885520e-01 -5.59162324e-01\n",
      "  1.36646692e+00  4.56107933e-01  7.19015426e-01 -1.61644700e+00\n",
      "  1.58505803e+00 -1.26314135e+00  1.23841273e+00  4.30363295e-01\n",
      " -1.57416722e+00 -6.87935261e-01  1.42548282e-01 -4.74638568e-01\n",
      "  1.30024960e+00  7.80644322e-01 -2.44902364e-01  1.03005773e-01\n",
      " -1.72843368e+00  4.94182395e-01 -8.85850124e-01 -1.24266545e+00\n",
      " -1.42642603e+00  2.73552616e-01  1.14757533e+00  5.94663421e-01\n",
      " -1.53150014e-02 -3.99668259e-01  1.39417435e+00  9.77589807e-02\n",
      "  1.44350811e+00 -1.79937822e+00 -1.30289771e+00  3.56234073e-01\n",
      "  6.86113063e-01 -1.79159166e+00 -2.69830144e-01 -1.00833253e+00\n",
      " -1.18768474e-01 -1.99934555e+00 -1.14167397e+00  1.15451304e+00\n",
      " -7.70125157e-01  1.47670166e+00 -1.41879537e+00  2.22932768e-01\n",
      " -8.13715056e-01 -9.05740132e-01  1.10658807e+00  1.82402495e-01\n",
      " -1.04046018e+00  1.04870511e-01 -7.18101136e-02 -5.73395108e-01\n",
      " -7.22919654e-01  8.54608352e-01 -1.03999050e-02 -8.22923768e-01\n",
      " -1.32222910e+00  5.99630546e-01 -2.21808193e+00  1.80597572e-01\n",
      "  2.13897094e-01 -3.74618410e-01  1.70158614e-01  3.41714005e-01\n",
      "  6.09447014e-01  4.27462457e-01 -4.53549928e-01 -1.05052701e+00]\n"
     ]
    }
   ],
   "source": [
    "np.random.seed(int(time.time()))\n",
    "samples=np.random.normal(0,1,100)\n",
    "print(samples)"
   ]
  },
  {
   "cell_type": "markdown",
   "metadata": {},
   "source": [
    "2.绘图"
   ]
  },
  {
   "cell_type": "code",
   "execution_count": 76,
   "metadata": {},
   "outputs": [
    {
     "data": {
      "text/plain": [
       "(array([ 2.,  7.,  8., 12., 12., 13., 19., 13.,  6.,  8.]),\n",
       " array([-2.21808193, -1.83776793, -1.45745394, -1.07713994, -0.69682595,\n",
       "        -0.31651195,  0.06380204,  0.44411604,  0.82443004,  1.20474403,\n",
       "         1.58505803]),\n",
       " <BarContainer object of 10 artists>)"
      ]
     },
     "execution_count": 76,
     "metadata": {},
     "output_type": "execute_result"
    },
    {
     "data": {
      "image/png": "[encoded data removed]",
      "text/plain": [
       "<Figure size 640x480 with 1 Axes>"
      ]
     },
     "metadata": {},
     "output_type": "display_data"
    }
   ],
   "source": [
    "plt.hist(samples,bins=10,color='r',edgecolor='black')"
   ]
  },
  {
   "cell_type": "markdown",
   "metadata": {},
   "source": [
    "3.计算特征值和特征向量"
   ]
  },
  {
   "cell_type": "code",
   "execution_count": 77,
   "metadata": {},
   "outputs": [
    {
     "name": "stdout",
     "output_type": "stream",
     "text": [
      "特征值： [1. 6.]\n",
      "特征向量：\n",
      " [[-0.70710678 -0.24253563]\n",
      " [ 0.70710678 -0.9701425 ]]\n"
     ]
    }
   ],
   "source": [
    "matrix=np.array([[2,1],[4,5]])\n",
    "values,vectors=np.linalg.eig(matrix)\n",
    "print(\"特征值：\",values)\n",
    "print(\"特征向量：\\n\",vectors)"
   ]
  },
  {
   "cell_type": "markdown",
   "metadata": {},
   "source": [
    "5.协方差矩阵："
   ]
  },
  {
   "cell_type": "code",
   "execution_count": 78,
   "metadata": {},
   "outputs": [
    {
     "name": "stdout",
     "output_type": "stream",
     "text": [
      "[[ 1.          1.5         0.5        -1.        ]\n",
      " [ 1.5         6.33333333  2.5        -5.        ]\n",
      " [ 0.5         2.5         1.         -2.        ]\n",
      " [-1.         -5.         -2.          4.        ]]\n"
     ]
    }
   ],
   "source": [
    "matrix2=np.array([[1,2,3],[1,-1,4],[2,1,3],[1,3,-1]])\n",
    "cov_matrix=np.cov(matrix2)\n",
    "print(cov_matrix)"
   ]
  },
  {
   "cell_type": "markdown",
   "metadata": {},
   "source": [
    "$f(x) = 0.25(x-0.5)^2+1$ 局部最小值，使用梯度下降方法"
   ]
  },
  {
   "cell_type": "code",
   "execution_count": 79,
   "metadata": {},
   "outputs": [
    {
     "name": "stdout",
     "output_type": "stream",
     "text": [
      "局部最小值点 x=0.5000018345506001\n",
      "局部最小值：0.25*(x - 0.5)**2 + 1\n"
     ]
    }
   ],
   "source": [
    "\n",
    "x=sp.symbols('x')\n",
    "f=0.25*(x-0.5)**2+1\n",
    "f_prime=f.diff(x)\n",
    "f_prime_func=sp.lambdify(x,f_prime,'numpy')\n",
    "x_0=1\n",
    "alpha=0.1\n",
    "max_iter=1000\n",
    "epsilon=1e-7\n",
    "x=x_0\n",
    "for i in range(max_iter):\n",
    "    gradient=f_prime_func(x)\n",
    "    new_x = x-alpha*gradient\n",
    "    \n",
    "    if abs(new_x-x)<epsilon:\n",
    "        break\n",
    "\n",
    "    x = new_x\n",
    "    \n",
    "print('局部最小值点 x={}'.format(new_x))\n",
    "print('局部最小值：{}'.format(f.subs(x,new_x)))\n",
    "\n"
   ]
  }
 ],
 "metadata": {
  "kernelspec": {
   "display_name": "Python (myenv)",
   "language": "python",
   "name": "myenv"
  },
  "language_info": {
   "codemirror_mode": {
    "name": "ipython",
    "version": 3
   },
   "file_extension": ".py",
   "mimetype": "text/x-python",
   "name": "python",
   "nbconvert_exporter": "python",
   "pygments_lexer": "ipython3",
   "version": "3.12.5"
  }
 },
 "nbformat": 4,
 "nbformat_minor": 2
}
